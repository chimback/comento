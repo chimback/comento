{
 "cells": [
  {
   "cell_type": "markdown",
   "id": "initial-number",
   "metadata": {},
   "source": [
    "# 클래스"
   ]
  },
  {
   "cell_type": "markdown",
   "id": "external-johns",
   "metadata": {},
   "source": [
    "초보 개발자에게 class는 넘기 힘든 장벽이다. 클래스가 무었인지, 클래스가 왜 필요한지 알아보자."
   ]
  },
  {
   "cell_type": "markdown",
   "id": "liberal-slave",
   "metadata": {},
   "source": [
    "## 클래스가 필요한 이유"
   ]
  },
  {
   "cell_type": "markdown",
   "id": "naval-field",
   "metadata": {},
   "source": [
    "Ex. 계산기 프로그램이 필요하다고 하자. 이 프로그램플 함수로 구현했다고 하면 아래와 같을 것이다."
   ]
  },
  {
   "cell_type": "code",
   "execution_count": 2,
   "id": "deluxe-tribe",
   "metadata": {},
   "outputs": [
    {
     "name": "stdout",
     "output_type": "stream",
     "text": [
      "3\n",
      "7\n"
     ]
    }
   ],
   "source": [
    "result = 0\n",
    "\n",
    "def add(num):\n",
    "    global result\n",
    "    result += num\n",
    "    return result\n",
    "\n",
    "print(add(3))\n",
    "print(add(4))"
   ]
  },
  {
   "cell_type": "markdown",
   "id": "superior-swedish",
   "metadata": {},
   "source": [
    "이 전에 계산한 결괏값을 유지하기 위해서 result 전역 변수(global)를 사용했다. 프로그램을 실행하면 예상대로 결괏값이 출력된다."
   ]
  },
  {
   "cell_type": "markdown",
   "id": "aware-scanning",
   "metadata": {},
   "source": [
    "그런데 만약 **한 프로그램에서 2대의 계산기가 필요한 상황이 발생하면?"
   ]
  },
  {
   "cell_type": "code",
   "execution_count": 3,
   "id": "bright-hybrid",
   "metadata": {},
   "outputs": [
    {
     "name": "stdout",
     "output_type": "stream",
     "text": [
      "3\n",
      "7\n",
      "3\n",
      "10\n"
     ]
    }
   ],
   "source": [
    "result1 = 0\n",
    "result2 = 0\n",
    "\n",
    "def add1(num):\n",
    "    global result1\n",
    "    result1 += num\n",
    "    return result1\n",
    "\n",
    "def add2(num):\n",
    "    global result2\n",
    "    result2 += num\n",
    "    return result2\n",
    "\n",
    "print(add1(3))\n",
    "print(add1(4))\n",
    "print(add2(3))\n",
    "print(add2(7))"
   ]
  },
  {
   "cell_type": "markdown",
   "id": "weighted-rebound",
   "metadata": {},
   "source": [
    "이제 전역변수가 두개 필요하게 되었다."
   ]
  },
  {
   "cell_type": "markdown",
   "id": "effective-criminal",
   "metadata": {},
   "source": [
    "### 그런데 계산기가 3개 5개 100개가 필요하다면? "
   ]
  },
  {
   "cell_type": "markdown",
   "id": "antique-florida",
   "metadata": {},
   "source": [
    "위 경우에는 클래스를 사용해서 아주 간단하게 해결할 수 있다."
   ]
  },
  {
   "cell_type": "code",
   "execution_count": 4,
   "id": "generous-sociology",
   "metadata": {},
   "outputs": [
    {
     "name": "stdout",
     "output_type": "stream",
     "text": [
      "3\n",
      "7\n",
      "3\n",
      "10\n"
     ]
    }
   ],
   "source": [
    "class Calculator:\n",
    "    def __init__(self):\n",
    "        self.result = 0\n",
    "        \n",
    "    def add(self, num):\n",
    "        self.result += num\n",
    "        return self.result\n",
    "    \n",
    "cal1 = Calculator()\n",
    "cal2 = Calculator()\n",
    "\n",
    "print(cal1.add(3))\n",
    "print(cal1.add(4))\n",
    "print(cal2.add(3))\n",
    "print(cal2.add(7))"
   ]
  },
  {
   "cell_type": "markdown",
   "id": "immediate-samuel",
   "metadata": {},
   "source": [
    "이 경우 계산기의 결괏값을 다른 계산기와 상관없이 독립적으로 유지할 수 있다."
   ]
  },
  {
   "cell_type": "markdown",
   "id": "romance-interference",
   "metadata": {},
   "source": [
    "## 클래스와 객체"
   ]
  },
  {
   "cell_type": "code",
   "execution_count": 6,
   "id": "beneficial-thompson",
   "metadata": {},
   "outputs": [],
   "source": [
    "class Cookie:\n",
    "    pass"
   ]
  },
  {
   "cell_type": "code",
   "execution_count": 9,
   "id": "ecological-cuisine",
   "metadata": {},
   "outputs": [],
   "source": [
    "a = Cookie()\n",
    "b = Cookie()"
   ]
  },
  {
   "cell_type": "markdown",
   "id": "saving-moses",
   "metadata": {},
   "source": [
    "위의 클래스에서 a,b는 객체이고 Cookie는 클래스이다. 또한, a의 객체는 Cookie의 인스턴스이다. \n",
    "정리하자면 a는 객체이며 a는 Cookie의 객체가 아니라 인스턴스이다."
   ]
  },
  {
   "cell_type": "markdown",
   "id": "facial-reception",
   "metadata": {},
   "source": [
    "### 사칙연산 클래스 만들기"
   ]
  },
  {
   "cell_type": "code",
   "execution_count": null,
   "id": "regulation-niger",
   "metadata": {},
   "outputs": [],
   "source": []
  }
 ],
 "metadata": {
  "kernelspec": {
   "display_name": "Python 3",
   "language": "python",
   "name": "python3"
  },
  "language_info": {
   "codemirror_mode": {
    "name": "ipython",
    "version": 3
   },
   "file_extension": ".py",
   "mimetype": "text/x-python",
   "name": "python",
   "nbconvert_exporter": "python",
   "pygments_lexer": "ipython3",
   "version": "3.9.1"
  }
 },
 "nbformat": 4,
 "nbformat_minor": 5
}
