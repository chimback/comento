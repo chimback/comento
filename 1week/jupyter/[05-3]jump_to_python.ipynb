{
 "cells": [
  {
   "cell_type": "markdown",
   "id": "monthly-evanescence",
   "metadata": {},
   "source": [
    "# 05-3 패키지"
   ]
  },
  {
   "cell_type": "markdown",
   "id": "peripheral-roman",
   "metadata": {},
   "source": [
    "## 패키지란 무엇인가?"
   ]
  },
  {
   "cell_type": "markdown",
   "id": "welsh-vegetarian",
   "metadata": {},
   "source": [
    "패키지는 도트를 사용하여 파이썬 모듈을 계층적(디렉토리 구조)으로 관리할 수 있게 해준다. 예를 들어 모듈 이름이 A,B인 경우에 A는 패키지 이름이 되고 B는A패키지의 B모듈이 된다."
   ]
  },
  {
   "cell_type": "markdown",
   "id": "floral-hydrogen",
   "metadata": {},
   "source": [
    "가상의 game패키지 예시"
   ]
  },
  {
   "cell_type": "code",
   "execution_count": 12,
   "id": "large-encyclopedia",
   "metadata": {},
   "outputs": [
    {
     "ename": "SyntaxError",
     "evalue": "invalid syntax (<ipython-input-12-271cf4506c2d>, line 1)",
     "output_type": "error",
     "traceback": [
      "\u001b[0;36m  File \u001b[0;32m\"<ipython-input-12-271cf4506c2d>\"\u001b[0;36m, line \u001b[0;32m1\u001b[0m\n\u001b[0;31m    game/\u001b[0m\n\u001b[0m         ^\u001b[0m\n\u001b[0;31mSyntaxError\u001b[0m\u001b[0;31m:\u001b[0m invalid syntax\n"
     ]
    }
   ],
   "source": [
    "game/\n",
    "    __init__.py\n",
    "    sound/\n",
    "        __init__.py\n",
    "        echo.py\n",
    "        wav.py\n",
    "    graphic/\n",
    "        __init__.py\n",
    "        screen.py\n",
    "        render.py\n",
    "    play/\n",
    "        __init__.py\n",
    "        run.py\n",
    "        test.py"
   ]
  },
  {
   "cell_type": "markdown",
   "id": "owned-movement",
   "metadata": {},
   "source": [
    "위에서 game, sound, graphic, play는 디렉토리 이름이록 확장자가 .py인 파일이 파이썬 모듈이다. game 디렉토리 = 루트디렉토리이고 나머지는 하위 디렉토리라고 생각하면 된다."
   ]
  },
  {
   "cell_type": "markdown",
   "id": "crazy-plaza",
   "metadata": {},
   "source": [
    "이처럼 간단한 파이썬 프로그램이 아니라면 이렇게 패키지 구조로 관리하는것이 공동 작업이나 유지 보수 등 여러 면에서 유리하다. 또한, 패키지 모델로 만들 경우 다른 모듈과 이름이 겹쳐도 안전하게 사용 가능하다."
   ]
  },
  {
   "cell_type": "code",
   "execution_count": 3,
   "id": "advisory-elephant",
   "metadata": {},
   "outputs": [],
   "source": [
    "import game.sound.echo"
   ]
  },
  {
   "cell_type": "code",
   "execution_count": 4,
   "id": "finished-douglas",
   "metadata": {},
   "outputs": [
    {
     "name": "stdout",
     "output_type": "stream",
     "text": [
      "echo\n"
     ]
    }
   ],
   "source": [
    "game.sound.echo.echo_test()"
   ]
  },
  {
   "cell_type": "code",
   "execution_count": 5,
   "id": "tracked-dividend",
   "metadata": {},
   "outputs": [],
   "source": [
    "from game.sound import echo"
   ]
  },
  {
   "cell_type": "code",
   "execution_count": 6,
   "id": "analyzed-persian",
   "metadata": {},
   "outputs": [
    {
     "name": "stdout",
     "output_type": "stream",
     "text": [
      "echo\n"
     ]
    }
   ],
   "source": [
    "echo.echo_test()"
   ]
  },
  {
   "cell_type": "code",
   "execution_count": 9,
   "id": "palestinian-midwest",
   "metadata": {},
   "outputs": [
    {
     "name": "stdout",
     "output_type": "stream",
     "text": [
      "echo\n"
     ]
    }
   ],
   "source": [
    "from game.sound.echo import echo_test\n",
    "echo_test()"
   ]
  },
  {
   "cell_type": "markdown",
   "id": "electric-nevada",
   "metadata": {},
   "source": [
    "위처럼 사용할 수 있다. 하지만 import game만 선언할 경우 gmae디렉토리의 모듈 또는 game 디렉토리의 __init.py에 정의한 것만 참조가 가능하다."
   ]
  },
  {
   "cell_type": "markdown",
   "id": "perfect-meeting",
   "metadata": {},
   "source": [
    "##  _ _ _init.py_ _ _  의 용도"
   ]
  },
  {
   "cell_type": "markdown",
   "id": "chronic-costs",
   "metadata": {},
   "source": [
    "__init.py__파일은 해당 디렉토리가 패키지의 일부임을 알려주는 역할을 한다. 만약 __init.py파일이 없다면 각각의 디렉토리는 패키지로 인식되지 않는다.\n",
    "하지만 python3.3이상부터는 없어도 패키지로 인식을 한다. 다만 하위 호환을 생각한다면 파일을 생성해주는 것이 가장 안전한 방법이다."
   ]
  },
  {
   "cell_type": "markdown",
   "id": "laden-textbook",
   "metadata": {},
   "source": [
    "## relative 패키지"
   ]
  },
  {
   "cell_type": "code",
   "execution_count": 21,
   "id": "overhead-blues",
   "metadata": {},
   "outputs": [],
   "source": [
    "from game.sound.echo import echo_test\n",
    "def render_test():\n",
    "    print(\"render\")\n",
    "    echo_test()"
   ]
  },
  {
   "cell_type": "code",
   "execution_count": 22,
   "id": "occupational-variable",
   "metadata": {},
   "outputs": [
    {
     "name": "stdout",
     "output_type": "stream",
     "text": [
      "render\n"
     ]
    }
   ],
   "source": [
    "from game.graphic.render import render_test\n",
    "render_test()"
   ]
  }
 ],
 "metadata": {
  "kernelspec": {
   "display_name": "Python 3",
   "language": "python",
   "name": "python3"
  },
  "language_info": {
   "codemirror_mode": {
    "name": "ipython",
    "version": 3
   },
   "file_extension": ".py",
   "mimetype": "text/x-python",
   "name": "python",
   "nbconvert_exporter": "python",
   "pygments_lexer": "ipython3",
   "version": "3.9.1"
  }
 },
 "nbformat": 4,
 "nbformat_minor": 5
}
