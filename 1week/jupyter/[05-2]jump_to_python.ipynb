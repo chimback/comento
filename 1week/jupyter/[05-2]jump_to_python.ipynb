{
 "cells": [
  {
   "cell_type": "markdown",
   "id": "signed-arthur",
   "metadata": {},
   "source": [
    "# 모듈"
   ]
  },
  {
   "cell_type": "markdown",
   "id": "smoking-deviation",
   "metadata": {},
   "source": [
    "모듈이란 함수나 변수, 클래스를 모아놓은 파일이다. 모듈은 다른 파이썬 프로그램에서 불러와 사용할 수 있도록 만든 파일이라고 할 수 있다. 우리는 파이썬으로 프로그래밍시 굉장히 많은 모듈을 사용한다."
   ]
  },
  {
   "cell_type": "markdown",
   "id": "naval-jaguar",
   "metadata": {},
   "source": [
    "## 모듈 만들기"
   ]
  },
  {
   "cell_type": "code",
   "execution_count": 21,
   "id": "martial-psychology",
   "metadata": {},
   "outputs": [],
   "source": [
    "def add(a,b):\n",
    "    return a+b\n",
    "def sub(a,b):\n",
    "    return a-b"
   ]
  },
  {
   "cell_type": "markdown",
   "id": "manual-recognition",
   "metadata": {},
   "source": [
    "위처럼 만든 함수만 있는 파일을 mod1.py로 만들면 모듈이된다."
   ]
  },
  {
   "cell_type": "markdown",
   "id": "complex-content",
   "metadata": {},
   "source": [
    "## 모듈 불러오기"
   ]
  },
  {
   "cell_type": "markdown",
   "id": "attempted-mobile",
   "metadata": {},
   "source": [
    "모듈을 저장한 디렉토리로 이동 후 import mod1"
   ]
  },
  {
   "cell_type": "code",
   "execution_count": 23,
   "id": "signal-sleeve",
   "metadata": {},
   "outputs": [
    {
     "name": "stdout",
     "output_type": "stream",
     "text": [
      "7\n"
     ]
    }
   ],
   "source": [
    "import mod1\n",
    "print(mod1.add(3,4))"
   ]
  },
  {
   "cell_type": "markdown",
   "id": "sorted-throat",
   "metadata": {},
   "source": [
    "그렇다면 mod1파일의 add 함수만 사용하고 싶다면 어떻게 해야 할까?\n"
   ]
  },
  {
   "cell_type": "code",
   "execution_count": 24,
   "id": "seventh-applicant",
   "metadata": {},
   "outputs": [],
   "source": [
    "from mod1 import add"
   ]
  },
  {
   "cell_type": "code",
   "execution_count": 25,
   "id": "interim-thanksgiving",
   "metadata": {},
   "outputs": [
    {
     "data": {
      "text/plain": [
       "7"
      ]
     },
     "execution_count": 25,
     "metadata": {},
     "output_type": "execute_result"
    }
   ],
   "source": [
    "add(3,4)"
   ]
  },
  {
   "cell_type": "markdown",
   "id": "ambient-public",
   "metadata": {},
   "source": [
    "위처럼 하면 된다"
   ]
  },
  {
   "cell_type": "markdown",
   "id": "after-ladder",
   "metadata": {},
   "source": [
    "이 경우 mod1파일의 정확히 add 함수만 불러올 수 있다."
   ]
  },
  {
   "cell_type": "code",
   "execution_count": 27,
   "id": "architectural-anaheim",
   "metadata": {},
   "outputs": [],
   "source": [
    "from mod1 import add,sub"
   ]
  },
  {
   "cell_type": "markdown",
   "id": "noble-state",
   "metadata": {},
   "source": [
    "이렇게 여러 함수를 불러올 수도 있다."
   ]
  },
  {
   "cell_type": "code",
   "execution_count": 30,
   "id": "mathematical-merchandise",
   "metadata": {},
   "outputs": [],
   "source": [
    "from mod1 import *"
   ]
  },
  {
   "cell_type": "markdown",
   "id": "three-duncan",
   "metadata": {},
   "source": [
    "이렇게 모든 함수를 호출할 수도 있다."
   ]
  },
  {
   "cell_type": "markdown",
   "id": "earned-vermont",
   "metadata": {},
   "source": [
    "## if__name__ == \"__main__\": 의 의미"
   ]
  },
  {
   "cell_type": "code",
   "execution_count": 36,
   "id": "equal-communication",
   "metadata": {},
   "outputs": [],
   "source": [
    "# mod1.py\n",
    "def add(a,b):\n",
    "    return a+b\n",
    "def sub(a,b):\n",
    "    return a-b"
   ]
  },
  {
   "cell_type": "code",
   "execution_count": 37,
   "id": "appointed-struggle",
   "metadata": {},
   "outputs": [
    {
     "name": "stdout",
     "output_type": "stream",
     "text": [
      "5\n",
      "2\n"
     ]
    }
   ],
   "source": [
    "print(add(1,4))\n",
    "print(sub(5,3))"
   ]
  },
  {
   "cell_type": "markdown",
   "id": "hourly-taste",
   "metadata": {},
   "source": [
    "이 결과는 python mod1.py로 실행할 수 있다."
   ]
  },
  {
   "cell_type": "markdown",
   "id": "restricted-newcastle",
   "metadata": {},
   "source": [
    "그런데 이 mod1.py파일의 add, sub함수를 사용하기 위해 mod1모듈을 import할 때 이상한 문제가 생긴다."
   ]
  },
  {
   "cell_type": "markdown",
   "id": "secret-mercury",
   "metadata": {},
   "source": [
    "import mod1을 하는 순간 결괏값이 출력된다. 우리는 add 와 sub함수를 사용하려 했는데 말이다."
   ]
  },
  {
   "cell_type": "markdown",
   "id": "minimal-lambda",
   "metadata": {},
   "source": [
    "따라서 mod1.py파일을 다음과 같이 변경해야 한다."
   ]
  },
  {
   "cell_type": "code",
   "execution_count": 39,
   "id": "occupied-control",
   "metadata": {},
   "outputs": [
    {
     "name": "stdout",
     "output_type": "stream",
     "text": [
      "5\n",
      "2\n"
     ]
    }
   ],
   "source": [
    "# mod1.py\n",
    "def add(a,b):\n",
    "    return a+b\n",
    "def sub(a,b):\n",
    "    return a-b\n",
    "\n",
    "if __name__==\"__main__\":\n",
    "    print(add(1,4))\n",
    "    print(sub(4,2))\n"
   ]
  },
  {
   "cell_type": "markdown",
   "id": "positive-landscape",
   "metadata": {},
   "source": [
    "if __name__==\"__main__\":을 사용하면 파일을 직접 실행할 때는 __name__==\"__main__\"이 참이 되면서 if의 문장이 실행되지만 모듈을 불러서 사용시에는 거짓이 되므로 if다음문이 실행되지 않는다."
   ]
  },
  {
   "cell_type": "markdown",
   "id": "pursuant-madison",
   "metadata": {},
   "source": [
    "### __name__변수란?"
   ]
  },
  {
   "cell_type": "markdown",
   "id": "expensive-blind",
   "metadata": {},
   "source": [
    "파이썬이 내부적으로 사용하는 특별한 변수 이름이다. 만약 mod1.py파일을 직접 실행할 경우 mod1.py파일의 __name__ 변수에는 __main__값이 저장된다. 하지만 다른 파이썬 모듈에서 mod1을 Import할 경우 __name__변수에는 mod1.py 모듈 이름 값 mod1이 저장된다."
   ]
  },
  {
   "cell_type": "markdown",
   "id": "treated-costs",
   "metadata": {},
   "source": [
    "## 클래스나 변수 등을 포함한 모듈"
   ]
  },
  {
   "cell_type": "code",
   "execution_count": 2,
   "id": "regional-praise",
   "metadata": {},
   "outputs": [],
   "source": [
    "# mod2.py \n",
    "PI = 3.141592\n",
    "\n",
    "class Math: \n",
    "    def solv(self, r): \n",
    "        return PI * (r ** 2) \n",
    "\n",
    "def add(a, b): \n",
    "    return a+b "
   ]
  },
  {
   "cell_type": "code",
   "execution_count": 3,
   "id": "representative-mercy",
   "metadata": {},
   "outputs": [
    {
     "ename": "ModuleNotFoundError",
     "evalue": "No module named 'mod2'",
     "output_type": "error",
     "traceback": [
      "\u001b[0;31m---------------------------------------------------------------------------\u001b[0m",
      "\u001b[0;31mModuleNotFoundError\u001b[0m                       Traceback (most recent call last)",
      "\u001b[0;32m<ipython-input-3-1436c3c6ee59>\u001b[0m in \u001b[0;36m<module>\u001b[0;34m\u001b[0m\n\u001b[0;32m----> 1\u001b[0;31m \u001b[0;32mimport\u001b[0m \u001b[0mmod2\u001b[0m\u001b[0;34m\u001b[0m\u001b[0;34m\u001b[0m\u001b[0m\n\u001b[0m\u001b[1;32m      2\u001b[0m \u001b[0mprint\u001b[0m\u001b[0;34m(\u001b[0m\u001b[0mmod2\u001b[0m\u001b[0;34m,\u001b[0m\u001b[0mPI\u001b[0m\u001b[0;34m)\u001b[0m\u001b[0;34m\u001b[0m\u001b[0;34m\u001b[0m\u001b[0m\n",
      "\u001b[0;31mModuleNotFoundError\u001b[0m: No module named 'mod2'"
     ]
    }
   ],
   "source": [
    "import mod2\n",
    "print(mod2,PI)"
   ]
  },
  {
   "cell_type": "code",
   "execution_count": 4,
   "id": "colonial-match",
   "metadata": {},
   "outputs": [
    {
     "ename": "NameError",
     "evalue": "name 'mod2' is not defined",
     "output_type": "error",
     "traceback": [
      "\u001b[0;31m---------------------------------------------------------------------------\u001b[0m",
      "\u001b[0;31mNameError\u001b[0m                                 Traceback (most recent call last)",
      "\u001b[0;32m<ipython-input-4-5f5c32ed9bef>\u001b[0m in \u001b[0;36m<module>\u001b[0;34m\u001b[0m\n\u001b[0;32m----> 1\u001b[0;31m \u001b[0mprint\u001b[0m\u001b[0;34m(\u001b[0m\u001b[0mmod2\u001b[0m\u001b[0;34m.\u001b[0m\u001b[0madd\u001b[0m\u001b[0;34m(\u001b[0m\u001b[0mmod2\u001b[0m\u001b[0;34m.\u001b[0m\u001b[0mPI\u001b[0m\u001b[0;34m,\u001b[0m \u001b[0;36m4.4\u001b[0m\u001b[0;34m)\u001b[0m\u001b[0;34m)\u001b[0m\u001b[0;34m\u001b[0m\u001b[0;34m\u001b[0m\u001b[0m\n\u001b[0m",
      "\u001b[0;31mNameError\u001b[0m: name 'mod2' is not defined"
     ]
    }
   ],
   "source": [
    "print(mod2.add(mod2.PI, 4.4))"
   ]
  }
 ],
 "metadata": {
  "kernelspec": {
   "display_name": "Python 3",
   "language": "python",
   "name": "python3"
  },
  "language_info": {
   "codemirror_mode": {
    "name": "ipython",
    "version": 3
   },
   "file_extension": ".py",
   "mimetype": "text/x-python",
   "name": "python",
   "nbconvert_exporter": "python",
   "pygments_lexer": "ipython3",
   "version": "3.9.1"
  }
 },
 "nbformat": 4,
 "nbformat_minor": 5
}
