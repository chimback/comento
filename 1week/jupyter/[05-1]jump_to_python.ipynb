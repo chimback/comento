{
 "cells": [
  {
   "cell_type": "markdown",
   "id": "commercial-filing",
   "metadata": {},
   "source": [
    "# 클래스"
   ]
  },
  {
   "cell_type": "markdown",
   "id": "compliant-chair",
   "metadata": {},
   "source": [
    "초보 개발자에게 class는 넘기 힘든 장벽이다. 클래스가 무었인지, 클래스가 왜 필요한지 알아보자."
   ]
  },
  {
   "cell_type": "markdown",
   "id": "powerful-surge",
   "metadata": {},
   "source": [
    "## 클래스가 필요한 이유"
   ]
  },
  {
   "cell_type": "markdown",
   "id": "premium-witness",
   "metadata": {},
   "source": [
    "Ex. 계산기 프로그램이 필요하다고 하자. 이 프로그램플 함수로 구현했다고 하면 아래와 같을 것이다."
   ]
  },
  {
   "cell_type": "code",
   "execution_count": 10,
   "id": "stable-terminal",
   "metadata": {},
   "outputs": [
    {
     "name": "stdout",
     "output_type": "stream",
     "text": [
      "3\n",
      "7\n"
     ]
    }
   ],
   "source": [
    "result = 0\n",
    "\n",
    "def add(num):\n",
    "    global result\n",
    "    result += num\n",
    "    return result\n",
    "\n",
    "print(add(3))\n",
    "print(add(4))"
   ]
  },
  {
   "cell_type": "markdown",
   "id": "local-burke",
   "metadata": {},
   "source": [
    "이 전에 계산한 결괏값을 유지하기 위해서 result 전역 변수(global)를 사용했다. 프로그램을 실행하면 예상대로 결괏값이 출력된다."
   ]
  },
  {
   "cell_type": "markdown",
   "id": "pleasant-scout",
   "metadata": {},
   "source": [
    "그런데 만약 **한 프로그램에서 2대의 계산기가 필요한 상황이 발생하면?"
   ]
  },
  {
   "cell_type": "code",
   "execution_count": 11,
   "id": "broke-tutorial",
   "metadata": {},
   "outputs": [
    {
     "name": "stdout",
     "output_type": "stream",
     "text": [
      "3\n",
      "7\n",
      "3\n",
      "10\n"
     ]
    }
   ],
   "source": [
    "result1 = 0\n",
    "result2 = 0\n",
    "\n",
    "def add1(num):\n",
    "    global result1\n",
    "    result1 += num\n",
    "    return result1\n",
    "\n",
    "def add2(num):\n",
    "    global result2\n",
    "    result2 += num\n",
    "    return result2\n",
    "\n",
    "print(add1(3))\n",
    "print(add1(4))\n",
    "print(add2(3))\n",
    "print(add2(7))"
   ]
  },
  {
   "cell_type": "markdown",
   "id": "developing-parade",
   "metadata": {},
   "source": [
    "이제 전역변수가 두개 필요하게 되었다."
   ]
  },
  {
   "cell_type": "markdown",
   "id": "clear-flour",
   "metadata": {},
   "source": [
    "### 그런데 계산기가 3개 5개 100개가 필요하다면? "
   ]
  },
  {
   "cell_type": "markdown",
   "id": "accompanied-shift",
   "metadata": {},
   "source": [
    "위 경우에는 클래스를 사용해서 아주 간단하게 해결할 수 있다."
   ]
  },
  {
   "cell_type": "code",
   "execution_count": 12,
   "id": "varying-postcard",
   "metadata": {},
   "outputs": [
    {
     "name": "stdout",
     "output_type": "stream",
     "text": [
      "3\n",
      "7\n",
      "3\n",
      "10\n"
     ]
    }
   ],
   "source": [
    "class Calculator:\n",
    "    def __init__(self):\n",
    "        self.result = 0\n",
    "        \n",
    "    def add(self, num):\n",
    "        self.result += num\n",
    "        return self.result\n",
    "    \n",
    "cal1 = Calculator()\n",
    "cal2 = Calculator()\n",
    "\n",
    "print(cal1.add(3))\n",
    "print(cal1.add(4))\n",
    "print(cal2.add(3))\n",
    "print(cal2.add(7))"
   ]
  },
  {
   "cell_type": "markdown",
   "id": "chief-penny",
   "metadata": {},
   "source": [
    "이 경우 계산기의 결괏값을 다른 계산기와 상관없이 독립적으로 유지할 수 있다."
   ]
  },
  {
   "cell_type": "markdown",
   "id": "fatal-rough",
   "metadata": {},
   "source": [
    "## 클래스와 객체"
   ]
  },
  {
   "cell_type": "code",
   "execution_count": 13,
   "id": "reduced-hundred",
   "metadata": {},
   "outputs": [],
   "source": [
    "class Cookie:\n",
    "    pass"
   ]
  },
  {
   "cell_type": "code",
   "execution_count": 14,
   "id": "reasonable-vanilla",
   "metadata": {},
   "outputs": [],
   "source": [
    "a = Cookie()\n",
    "b = Cookie()"
   ]
  },
  {
   "cell_type": "markdown",
   "id": "union-alaska",
   "metadata": {},
   "source": [
    "위의 클래스에서 a,b는 객체이고 Cookie는 클래스이다. 또한, a의 객체는 Cookie의 인스턴스이다. \n",
    "정리하자면 a는 객체이며 a는 Cookie의 객체가 아니라 인스턴스이다."
   ]
  },
  {
   "cell_type": "markdown",
   "id": "stone-cinema",
   "metadata": {},
   "source": [
    "### 사칙연산 클래스 만들기"
   ]
  },
  {
   "cell_type": "markdown",
   "id": "young-celebration",
   "metadata": {},
   "source": [
    "클래스를 직접 만들며 배워보자!"
   ]
  },
  {
   "cell_type": "code",
   "execution_count": 15,
   "id": "national-handling",
   "metadata": {},
   "outputs": [],
   "source": [
    "class FourCal:\n",
    "    pass"
   ]
  },
  {
   "cell_type": "code",
   "execution_count": 16,
   "id": "diagnostic-liberal",
   "metadata": {},
   "outputs": [
    {
     "data": {
      "text/plain": [
       "__main__.FourCal"
      ]
     },
     "execution_count": 16,
     "metadata": {},
     "output_type": "execute_result"
    }
   ],
   "source": [
    "a = FourCal()\n",
    "type(a)"
   ]
  },
  {
   "cell_type": "markdown",
   "id": "decimal-municipality",
   "metadata": {},
   "source": [
    "a의 type을 알아보면 a객체가 FourCal 클래스의 객체임을 알 수 있다."
   ]
  },
  {
   "cell_type": "code",
   "execution_count": 17,
   "id": "banned-balloon",
   "metadata": {},
   "outputs": [],
   "source": [
    "class FourCal:\n",
    "    def setdata(self, first, second):\n",
    "        self.first = first\n",
    "        self.second = second"
   ]
  },
  {
   "cell_type": "markdown",
   "id": "thick-metro",
   "metadata": {},
   "source": [
    "앞에서 만든 FourCal 클래스에서 pass 문장을 삭제하고 setdata 함수를 만들었다. 클래스 안에 구현된 함수는 다른 말로 Method라고 부른다. 앞으로 클래스 내부의 함수는 항상 Method라고 표현한다."
   ]
  },
  {
   "cell_type": "code",
   "execution_count": 18,
   "id": "challenging-stress",
   "metadata": {},
   "outputs": [
    {
     "ename": "SyntaxError",
     "evalue": "invalid syntax (<ipython-input-18-7dc3b2dce0b1>, line 2)",
     "output_type": "error",
     "traceback": [
      "\u001b[0;36m  File \u001b[0;32m\"<ipython-input-18-7dc3b2dce0b1>\"\u001b[0;36m, line \u001b[0;32m2\u001b[0m\n\u001b[0;31m    수행할 문장\u001b[0m\n\u001b[0m        ^\u001b[0m\n\u001b[0;31mSyntaxError\u001b[0m\u001b[0;31m:\u001b[0m invalid syntax\n"
     ]
    }
   ],
   "source": [
    "def 함수명(매개변수):\n",
    "    수행할 문장\n",
    "    ..."
   ]
  },
  {
   "cell_type": "markdown",
   "id": "iraqi-employment",
   "metadata": {},
   "source": [
    "일반적인 함수를 만들 때 다음과 같이 작성한다."
   ]
  },
  {
   "cell_type": "markdown",
   "id": "numerous-amber",
   "metadata": {},
   "source": [
    "setdata 메서드는 매개변수로 self, first, second 3개의 입력값을 받는다. 그런데 self는 일반적인 함수와 달리 특별한 의미를 갖게 된다."
   ]
  },
  {
   "cell_type": "code",
   "execution_count": 19,
   "id": "formal-train",
   "metadata": {},
   "outputs": [],
   "source": [
    "a = FourCal()\n",
    "a.setdata(4,2)"
   ]
  },
  {
   "cell_type": "code",
   "execution_count": 20,
   "id": "purple-insider",
   "metadata": {},
   "outputs": [],
   "source": [
    "a = FourCal()\n",
    "FourCal.setdata(a,4,2)"
   ]
  },
  {
   "cell_type": "markdown",
   "id": "extended-turner",
   "metadata": {},
   "source": [
    "위와같이 메서드를 호출하는 두 가지 방법이 있는데 첫번째 방법처럼 객체.매서드의 형태로 호출시에는 반드시 self를 생략해야 가능하다."
   ]
  },
  {
   "cell_type": "code",
   "execution_count": 21,
   "id": "potential-subcommittee",
   "metadata": {},
   "outputs": [
    {
     "name": "stdout",
     "output_type": "stream",
     "text": [
      "4\n",
      "2\n"
     ]
    }
   ],
   "source": [
    "print(a.first)\n",
    "print(a.second)"
   ]
  },
  {
   "cell_type": "markdown",
   "id": "political-gross",
   "metadata": {},
   "source": [
    "결과적으로 setdata(4,2)를 통해 전달된 매개변수들은 a.first, a.second로 표현이 가능해진다."
   ]
  },
  {
   "cell_type": "code",
   "execution_count": 22,
   "id": "chronic-collar",
   "metadata": {},
   "outputs": [],
   "source": [
    "class FourCal:\n",
    "    def setdata(self, first, second):\n",
    "        self.first = first\n",
    "        self.second = second\n",
    "    def add(self):\n",
    "        result = self.first + self.second\n",
    "        return result\n",
    "    def mul(self):\n",
    "        result = self.first * self.second\n",
    "        return result\n",
    "    def sub(self):\n",
    "        result = self.first - self.second\n",
    "        return result\n",
    "    def div(self):\n",
    "        result = self.first / self.second\n",
    "        return result"
   ]
  },
  {
   "cell_type": "code",
   "execution_count": 23,
   "id": "parallel-patent",
   "metadata": {},
   "outputs": [],
   "source": [
    "a = FourCal()\n",
    "a.setdata(3,4)"
   ]
  },
  {
   "cell_type": "code",
   "execution_count": 24,
   "id": "corrected-honduras",
   "metadata": {},
   "outputs": [
    {
     "data": {
      "text/plain": [
       "7"
      ]
     },
     "execution_count": 24,
     "metadata": {},
     "output_type": "execute_result"
    }
   ],
   "source": [
    "a.add()"
   ]
  },
  {
   "cell_type": "code",
   "execution_count": 25,
   "id": "diagnostic-gossip",
   "metadata": {},
   "outputs": [
    {
     "data": {
      "text/plain": [
       "12"
      ]
     },
     "execution_count": 25,
     "metadata": {},
     "output_type": "execute_result"
    }
   ],
   "source": [
    "a.mul()"
   ]
  },
  {
   "cell_type": "code",
   "execution_count": 26,
   "id": "chubby-europe",
   "metadata": {},
   "outputs": [
    {
     "data": {
      "text/plain": [
       "-1"
      ]
     },
     "execution_count": 26,
     "metadata": {},
     "output_type": "execute_result"
    }
   ],
   "source": [
    "a.sub()"
   ]
  },
  {
   "cell_type": "code",
   "execution_count": 27,
   "id": "lasting-frequency",
   "metadata": {},
   "outputs": [
    {
     "data": {
      "text/plain": [
       "0.75"
      ]
     },
     "execution_count": 27,
     "metadata": {},
     "output_type": "execute_result"
    }
   ],
   "source": [
    "a.div()"
   ]
  },
  {
   "cell_type": "markdown",
   "id": "featured-connecticut",
   "metadata": {},
   "source": [
    "이렇게 하나의 클래스를 만들었다. 하지만 setdata 메서드를 수행하지 않을 경우 add 메서드를 수행할수 없다. 그 이유는 setdata메서드를 수행해야 객체 a의 객체변수 first와 second가 생성되기 때문이다. 그렇다면 초깃값을 설정하면 되지 않을까?"
   ]
  },
  {
   "cell_type": "markdown",
   "id": "extra-current",
   "metadata": {},
   "source": [
    "이처럼 객체에 초깃값을 설정해야 할 필요가 있을때는 생성자를 구현하는 것이 안전한 방법이다."
   ]
  },
  {
   "cell_type": "markdown",
   "id": "sharing-power",
   "metadata": {},
   "source": [
    "생성자란 Constructor란 객체가 생성될 때 자동으로 호출되는 메서드를 의미한다."
   ]
  },
  {
   "cell_type": "markdown",
   "id": "filled-recognition",
   "metadata": {},
   "source": [
    "파이썬 메서드 이름으로는 __init__ 을 사용하면 이 메서드는 생성자가 된다."
   ]
  },
  {
   "cell_type": "code",
   "execution_count": 28,
   "id": "critical-lambda",
   "metadata": {},
   "outputs": [],
   "source": [
    "class FourCal:\n",
    "    def __init__(self,first,second):\n",
    "        self.first = first\n",
    "        self.second = second\n",
    "    def setdata(self, first, second):\n",
    "        self.first = first\n",
    "        self.second = second\n",
    "    def add(self):\n",
    "        result = self.first + self.second\n",
    "        return result\n",
    "    def mul(self):\n",
    "        result = self.first * self.second\n",
    "        return result\n",
    "    def sub(self):\n",
    "        result = self.first - self.second\n",
    "        return result\n",
    "    def div(self):\n",
    "        result = self.first / self.second\n",
    "        return result"
   ]
  },
  {
   "cell_type": "markdown",
   "id": "personal-freight",
   "metadata": {},
   "source": [
    "위 클래스에서 __init__과 setdata의 차이는 메서드가 자동으로 호출되냐 안되냐의 차이이다. "
   ]
  },
  {
   "cell_type": "code",
   "execution_count": 29,
   "id": "protecting-alaska",
   "metadata": {},
   "outputs": [
    {
     "data": {
      "text/plain": [
       "6"
      ]
     },
     "execution_count": 29,
     "metadata": {},
     "output_type": "execute_result"
    }
   ],
   "source": [
    "a = FourCal(4,2)\n",
    "a.add()"
   ]
  },
  {
   "cell_type": "markdown",
   "id": "medical-slave",
   "metadata": {},
   "source": [
    "## 클래스의 상속"
   ]
  },
  {
   "cell_type": "code",
   "execution_count": 30,
   "id": "intense-layout",
   "metadata": {},
   "outputs": [],
   "source": [
    "class MoreFourCal(FourCal):\n",
    "    pass"
   ]
  },
  {
   "cell_type": "markdown",
   "id": "bibliographic-pollution",
   "metadata": {},
   "source": [
    "클래스를 상속하기 위해서는 클래스 이름 뒤 괄호 안에 상속할 클래스 이름을 넣어주면 된다.\n"
   ]
  },
  {
   "cell_type": "markdown",
   "id": "handed-proof",
   "metadata": {},
   "source": [
    "class 클래스 이름 (상속할 클래스 이름)"
   ]
  },
  {
   "cell_type": "code",
   "execution_count": 31,
   "id": "synthetic-interstate",
   "metadata": {},
   "outputs": [],
   "source": [
    "a = MoreFourCal(4,2)"
   ]
  },
  {
   "cell_type": "code",
   "execution_count": 32,
   "id": "about-winter",
   "metadata": {},
   "outputs": [
    {
     "data": {
      "text/plain": [
       "6"
      ]
     },
     "execution_count": 32,
     "metadata": {},
     "output_type": "execute_result"
    }
   ],
   "source": [
    "a.add()"
   ]
  },
  {
   "cell_type": "markdown",
   "id": "exciting-diana",
   "metadata": {},
   "source": [
    "MoreFourCal클래스는 FourCal클래스를 상속했으므로 FourCal 클래스의 모든 기능을 사용할 수 있다"
   ]
  },
  {
   "cell_type": "markdown",
   "id": "associate-procedure",
   "metadata": {},
   "source": [
    "### 왜 상속을 사용해야 하는가?"
   ]
  },
  {
   "cell_type": "markdown",
   "id": "little-trinity",
   "metadata": {},
   "source": [
    "기존 클래스를 변경하지 않고 기능을 추가 또는 기존 기능을 변경하고 싶을때, 기존 클래스가 라이브러리 형태로 제공 되거나 수정이 허용되지 않는 상황에서!!!!"
   ]
  },
  {
   "cell_type": "code",
   "execution_count": 34,
   "id": "exceptional-september",
   "metadata": {},
   "outputs": [],
   "source": [
    "class MoreFourCal(FourCal):\n",
    "    def pow(self):\n",
    "        result = self.first ** self.second\n",
    "        return result"
   ]
  },
  {
   "cell_type": "code",
   "execution_count": 35,
   "id": "loving-comedy",
   "metadata": {},
   "outputs": [
    {
     "data": {
      "text/plain": [
       "16"
      ]
     },
     "execution_count": 35,
     "metadata": {},
     "output_type": "execute_result"
    }
   ],
   "source": [
    "a = MoreFourCal(4,2)\n",
    "a.pow()"
   ]
  },
  {
   "cell_type": "markdown",
   "id": "indirect-kuwait",
   "metadata": {},
   "source": [
    "## 메서드 오버라이팅"
   ]
  },
  {
   "cell_type": "code",
   "execution_count": 36,
   "id": "binary-detection",
   "metadata": {},
   "outputs": [
    {
     "ename": "ZeroDivisionError",
     "evalue": "division by zero",
     "output_type": "error",
     "traceback": [
      "\u001b[0;31m---------------------------------------------------------------------------\u001b[0m",
      "\u001b[0;31mZeroDivisionError\u001b[0m                         Traceback (most recent call last)",
      "\u001b[0;32m<ipython-input-36-8d7f035a910a>\u001b[0m in \u001b[0;36m<module>\u001b[0;34m\u001b[0m\n\u001b[1;32m      1\u001b[0m \u001b[0ma\u001b[0m \u001b[0;34m=\u001b[0m \u001b[0mFourCal\u001b[0m\u001b[0;34m(\u001b[0m\u001b[0;36m4\u001b[0m\u001b[0;34m,\u001b[0m\u001b[0;36m0\u001b[0m\u001b[0;34m)\u001b[0m\u001b[0;34m\u001b[0m\u001b[0;34m\u001b[0m\u001b[0m\n\u001b[0;32m----> 2\u001b[0;31m \u001b[0ma\u001b[0m\u001b[0;34m.\u001b[0m\u001b[0mdiv\u001b[0m\u001b[0;34m(\u001b[0m\u001b[0;34m)\u001b[0m\u001b[0;34m\u001b[0m\u001b[0;34m\u001b[0m\u001b[0m\n\u001b[0m",
      "\u001b[0;32m<ipython-input-28-c0b6948e65a3>\u001b[0m in \u001b[0;36mdiv\u001b[0;34m(self)\u001b[0m\n\u001b[1;32m     16\u001b[0m         \u001b[0;32mreturn\u001b[0m \u001b[0mresult\u001b[0m\u001b[0;34m\u001b[0m\u001b[0;34m\u001b[0m\u001b[0m\n\u001b[1;32m     17\u001b[0m     \u001b[0;32mdef\u001b[0m \u001b[0mdiv\u001b[0m\u001b[0;34m(\u001b[0m\u001b[0mself\u001b[0m\u001b[0;34m)\u001b[0m\u001b[0;34m:\u001b[0m\u001b[0;34m\u001b[0m\u001b[0;34m\u001b[0m\u001b[0m\n\u001b[0;32m---> 18\u001b[0;31m         \u001b[0mresult\u001b[0m \u001b[0;34m=\u001b[0m \u001b[0mself\u001b[0m\u001b[0;34m.\u001b[0m\u001b[0mfirst\u001b[0m \u001b[0;34m/\u001b[0m \u001b[0mself\u001b[0m\u001b[0;34m.\u001b[0m\u001b[0msecond\u001b[0m\u001b[0;34m\u001b[0m\u001b[0;34m\u001b[0m\u001b[0m\n\u001b[0m\u001b[1;32m     19\u001b[0m         \u001b[0;32mreturn\u001b[0m \u001b[0mresult\u001b[0m\u001b[0;34m\u001b[0m\u001b[0;34m\u001b[0m\u001b[0m\n",
      "\u001b[0;31mZeroDivisionError\u001b[0m: division by zero"
     ]
    }
   ],
   "source": [
    "a = FourCal(4,0)\n",
    "a.div()"
   ]
  },
  {
   "cell_type": "markdown",
   "id": "extreme-burlington",
   "metadata": {},
   "source": [
    "위 경우에 0으로 나누기를 했으므로 발생하는 오류이다. 그렇다면 이때 오류가 아니라 0을 돌려주도록 하고 싶다면 어떻게 해야 할까?"
   ]
  },
  {
   "cell_type": "code",
   "execution_count": 37,
   "id": "registered-wright",
   "metadata": {},
   "outputs": [],
   "source": [
    "class SafeFourCal(FourCal):\n",
    "    def div(self):\n",
    "        if self.second == 0:\n",
    "            return 0\n",
    "        else:\n",
    "            return self.first / self.second"
   ]
  },
  {
   "cell_type": "code",
   "execution_count": 38,
   "id": "spare-utility",
   "metadata": {},
   "outputs": [
    {
     "data": {
      "text/plain": [
       "0"
      ]
     },
     "execution_count": 38,
     "metadata": {},
     "output_type": "execute_result"
    }
   ],
   "source": [
    "a = SafeFourCal(4,0)\n",
    "a.div()"
   ]
  },
  {
   "cell_type": "markdown",
   "id": "happy-proposal",
   "metadata": {},
   "source": [
    "## 클래스 변수"
   ]
  },
  {
   "cell_type": "code",
   "execution_count": 39,
   "id": "fewer-qualification",
   "metadata": {},
   "outputs": [],
   "source": [
    "class Family:\n",
    "    lastname = \"홍\""
   ]
  },
  {
   "cell_type": "code",
   "execution_count": 40,
   "id": "valid-sarah",
   "metadata": {},
   "outputs": [
    {
     "name": "stdout",
     "output_type": "stream",
     "text": [
      "홍\n"
     ]
    }
   ],
   "source": [
    "print(Family.lastname)"
   ]
  },
  {
   "cell_type": "code",
   "execution_count": 42,
   "id": "greek-vertical",
   "metadata": {},
   "outputs": [
    {
     "name": "stdout",
     "output_type": "stream",
     "text": [
      "홍\n",
      "홍\n"
     ]
    }
   ],
   "source": [
    "a = Family()\n",
    "b = Family()\n",
    "print(a.lastname)\n",
    "print(b.lastname)"
   ]
  },
  {
   "cell_type": "code",
   "execution_count": 46,
   "id": "decent-eating",
   "metadata": {},
   "outputs": [
    {
     "data": {
      "text/plain": [
       "4520895392"
      ]
     },
     "execution_count": 46,
     "metadata": {},
     "output_type": "execute_result"
    }
   ],
   "source": [
    "id(Family.lastname)"
   ]
  },
  {
   "cell_type": "code",
   "execution_count": 47,
   "id": "adapted-spirit",
   "metadata": {},
   "outputs": [
    {
     "data": {
      "text/plain": [
       "4520895392"
      ]
     },
     "execution_count": 47,
     "metadata": {},
     "output_type": "execute_result"
    }
   ],
   "source": [
    "id(a.lastname)"
   ]
  },
  {
   "cell_type": "code",
   "execution_count": 48,
   "id": "authentic-knock",
   "metadata": {},
   "outputs": [
    {
     "data": {
      "text/plain": [
       "4520895392"
      ]
     },
     "execution_count": 48,
     "metadata": {},
     "output_type": "execute_result"
    }
   ],
   "source": [
    "id(b.lastname)"
   ]
  },
  {
   "cell_type": "markdown",
   "id": "fifteen-immune",
   "metadata": {},
   "source": [
    "위 id값을 보면 모두 같은 주소값을 사용하는 것을 알 수 있다. 이는 클래스 변수가 공유된다는 사실을 알 수 있다."
   ]
  },
  {
   "cell_type": "markdown",
   "id": "animated-insertion",
   "metadata": {},
   "source": [
    "하지만, 클래스에서 클래스 변수보다는 객체변수가 훨씬 중요하고 실무 프로그래밍을 할 시에도 변수보다는 객체변수를 사용하는 비율이 훨씬 높기 때문이다."
   ]
  },
  {
   "cell_type": "code",
   "execution_count": null,
   "id": "aging-robinson",
   "metadata": {},
   "outputs": [],
   "source": []
  }
 ],
 "metadata": {
  "kernelspec": {
   "display_name": "Python 3",
   "language": "python",
   "name": "python3"
  },
  "language_info": {
   "codemirror_mode": {
    "name": "ipython",
    "version": 3
   },
   "file_extension": ".py",
   "mimetype": "text/x-python",
   "name": "python",
   "nbconvert_exporter": "python",
   "pygments_lexer": "ipython3",
   "version": "3.9.1"
  }
 },
 "nbformat": 4,
 "nbformat_minor": 5
}
