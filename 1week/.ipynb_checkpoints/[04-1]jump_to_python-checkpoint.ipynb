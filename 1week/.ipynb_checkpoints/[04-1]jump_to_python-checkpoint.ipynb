{
 "cells": [
  {
   "cell_type": "markdown",
   "id": "saved-underwear",
   "metadata": {},
   "source": [
    "# **04-1 함수**"
   ]
  },
  {
   "cell_type": "code",
   "execution_count": 33,
   "id": "dated-robert",
   "metadata": {},
   "outputs": [],
   "source": [
    "def add(a,b):\n",
    "    return a+b"
   ]
  },
  {
   "cell_type": "code",
   "execution_count": 34,
   "id": "caroline-anthropology",
   "metadata": {},
   "outputs": [
    {
     "name": "stdout",
     "output_type": "stream",
     "text": [
      "7\n"
     ]
    }
   ],
   "source": [
    "a = 3\n",
    "b = 4\n",
    "c = add(a,b)\n",
    "print(c)"
   ]
  },
  {
   "cell_type": "code",
   "execution_count": 35,
   "id": "finnish-villa",
   "metadata": {},
   "outputs": [
    {
     "name": "stdout",
     "output_type": "stream",
     "text": [
      "7\n"
     ]
    }
   ],
   "source": [
    "print(add(3,4))"
   ]
  },
  {
   "cell_type": "markdown",
   "id": "official-maryland",
   "metadata": {},
   "source": [
    "### 입력값이 없는 함수"
   ]
  },
  {
   "cell_type": "code",
   "execution_count": 47,
   "id": "neither-prime",
   "metadata": {},
   "outputs": [],
   "source": [
    "def say():\n",
    "    return \"HI\""
   ]
  },
  {
   "cell_type": "code",
   "execution_count": 48,
   "id": "conservative-dividend",
   "metadata": {},
   "outputs": [],
   "source": [
    "a = say()"
   ]
  },
  {
   "cell_type": "code",
   "execution_count": 49,
   "id": "medical-visitor",
   "metadata": {},
   "outputs": [
    {
     "name": "stdout",
     "output_type": "stream",
     "text": [
      "HI\n"
     ]
    }
   ],
   "source": [
    "print(a)"
   ]
  },
  {
   "cell_type": "markdown",
   "id": "moved-feeling",
   "metadata": {},
   "source": [
    "### 결괏값이 없는 함수"
   ]
  },
  {
   "cell_type": "code",
   "execution_count": 44,
   "id": "embedded-substance",
   "metadata": {},
   "outputs": [],
   "source": [
    "def adde(a,b):\n",
    "    print(\"%d, %d의 합은 %d입니다.\" %(a,b,a+b))"
   ]
  },
  {
   "cell_type": "code",
   "execution_count": 45,
   "id": "democratic-transparency",
   "metadata": {},
   "outputs": [
    {
     "name": "stdout",
     "output_type": "stream",
     "text": [
      "3, 4의 합은 7입니다.\n"
     ]
    }
   ],
   "source": [
    "adde(3,4)"
   ]
  },
  {
   "cell_type": "code",
   "execution_count": 46,
   "id": "prostate-palmer",
   "metadata": {
    "scrolled": true
   },
   "outputs": [
    {
     "name": "stdout",
     "output_type": "stream",
     "text": [
      "3, 4의 합은 7입니다.\n",
      "None\n"
     ]
    }
   ],
   "source": [
    "a = adde(3,4)\n",
    "print(a)"
   ]
  },
  {
   "cell_type": "markdown",
   "id": "lyric-gender",
   "metadata": {},
   "source": [
    "위 형식은 print(a)에 adde함수의 결괏값이 없기 때문에 오류가 발생한 결과이다."
   ]
  },
  {
   "cell_type": "markdown",
   "id": "heated-camera",
   "metadata": {},
   "source": [
    "### 입력값도 결괏값도 없는 함수"
   ]
  },
  {
   "cell_type": "code",
   "execution_count": 50,
   "id": "metric-avenue",
   "metadata": {},
   "outputs": [],
   "source": [
    "def say():\n",
    "    print('Hi')"
   ]
  },
  {
   "cell_type": "code",
   "execution_count": 51,
   "id": "falling-occupation",
   "metadata": {},
   "outputs": [
    {
     "name": "stdout",
     "output_type": "stream",
     "text": [
      "Hi\n"
     ]
    }
   ],
   "source": [
    "say()"
   ]
  },
  {
   "cell_type": "markdown",
   "id": "spatial-hostel",
   "metadata": {},
   "source": [
    "### 매개변수 지정하여 호출하기"
   ]
  },
  {
   "cell_type": "code",
   "execution_count": 52,
   "id": "fifty-performance",
   "metadata": {},
   "outputs": [],
   "source": [
    "def add(a,b):\n",
    "    return a+b"
   ]
  },
  {
   "cell_type": "code",
   "execution_count": 53,
   "id": "corresponding-citation",
   "metadata": {},
   "outputs": [
    {
     "name": "stdout",
     "output_type": "stream",
     "text": [
      "10\n"
     ]
    }
   ],
   "source": [
    "result = add(a=3,b=7)\n",
    "print(result)"
   ]
  },
  {
   "cell_type": "code",
   "execution_count": 54,
   "id": "adopted-bottom",
   "metadata": {},
   "outputs": [
    {
     "name": "stdout",
     "output_type": "stream",
     "text": [
      "8\n"
     ]
    }
   ],
   "source": [
    "result = add(b=4,a=4)\n",
    "print(result)"
   ]
  },
  {
   "cell_type": "markdown",
   "id": "fantastic-spanking",
   "metadata": {},
   "source": [
    "위와 같이 순서에도 상관이 없다."
   ]
  },
  {
   "cell_type": "markdown",
   "id": "respected-auditor",
   "metadata": {},
   "source": [
    "### 입력값이 몇 개가 될지 모를 때는?"
   ]
  },
  {
   "cell_type": "code",
   "execution_count": 55,
   "id": "proper-emperor",
   "metadata": {},
   "outputs": [],
   "source": [
    "def add_many(*args):\n",
    "    result = 0\n",
    "    for i in args:\n",
    "        result = result +i\n",
    "    return result"
   ]
  },
  {
   "cell_type": "markdown",
   "id": "meaning-rhythm",
   "metadata": {},
   "source": [
    "*을 붙이면 입력값을 전부 모아서 튜플로 만들어준다 즉, add_many(1,2,3)에서 args = (1,2,3)이 된다"
   ]
  },
  {
   "cell_type": "code",
   "execution_count": 56,
   "id": "novel-capacity",
   "metadata": {},
   "outputs": [
    {
     "name": "stdout",
     "output_type": "stream",
     "text": [
      "6\n"
     ]
    }
   ],
   "source": [
    "result = add_many(1,2,3)\n",
    "print(result)"
   ]
  },
  {
   "cell_type": "code",
   "execution_count": 58,
   "id": "chief-treasurer",
   "metadata": {},
   "outputs": [
    {
     "name": "stdout",
     "output_type": "stream",
     "text": [
      "55\n"
     ]
    }
   ],
   "source": [
    "result = add_many(1,2,3,4,5,6,7,8,9,10)\n",
    "print(result)"
   ]
  },
  {
   "cell_type": "code",
   "execution_count": 77,
   "id": "greatest-rhythm",
   "metadata": {},
   "outputs": [],
   "source": [
    "def add_mul(choice, *args):\n",
    "    if choice == \"add\":\n",
    "        result = 0\n",
    "        for i in args:\n",
    "            result = result + i\n",
    "    elif choice == \"mul\":\n",
    "        result = 1\n",
    "        for i in args:\n",
    "            result = result * i\n",
    "    return result"
   ]
  },
  {
   "cell_type": "code",
   "execution_count": 78,
   "id": "wooden-office",
   "metadata": {},
   "outputs": [
    {
     "name": "stdout",
     "output_type": "stream",
     "text": [
      "15\n"
     ]
    }
   ],
   "source": [
    "result = add_mul(\"add\", 1,2,3,4,5)\n",
    "print(result)"
   ]
  },
  {
   "cell_type": "code",
   "execution_count": 79,
   "id": "convertible-element",
   "metadata": {},
   "outputs": [
    {
     "name": "stdout",
     "output_type": "stream",
     "text": [
      "120\n"
     ]
    }
   ],
   "source": [
    "result = add_mul(\"mul\", 1,2,3,4,5)\n",
    "print(result)"
   ]
  },
  {
   "cell_type": "markdown",
   "id": "alike-sheriff",
   "metadata": {},
   "source": [
    "### 키워드 파라미터 kwargs"
   ]
  },
  {
   "cell_type": "code",
   "execution_count": 80,
   "id": "cleared-memphis",
   "metadata": {},
   "outputs": [],
   "source": [
    "def print_kwargs(**kwargs):\n",
    "    print(kwargs)"
   ]
  },
  {
   "cell_type": "code",
   "execution_count": 81,
   "id": "revolutionary-poison",
   "metadata": {},
   "outputs": [
    {
     "name": "stdout",
     "output_type": "stream",
     "text": [
      "{'a': 1}\n"
     ]
    }
   ],
   "source": [
    "print_kwargs(a=1)"
   ]
  },
  {
   "cell_type": "code",
   "execution_count": 82,
   "id": "dependent-avatar",
   "metadata": {},
   "outputs": [
    {
     "name": "stdout",
     "output_type": "stream",
     "text": [
      "{'name': 'foo', 'age': 3}\n"
     ]
    }
   ],
   "source": [
    "print_kwargs(name='foo',age=3)"
   ]
  },
  {
   "cell_type": "markdown",
   "id": "distributed-locator",
   "metadata": {},
   "source": [
    "위처럼 a=1이나 name='foo',age=3이 모두 딕셔너리로 만들어진다. 이처럼 매개변수 앞에 **을 넣으면 딕셔너리가 된다."
   ]
  },
  {
   "cell_type": "markdown",
   "id": "painted-broadway",
   "metadata": {},
   "source": [
    "### 함수의 결괏값은 언제나 하나이다."
   ]
  },
  {
   "cell_type": "code",
   "execution_count": 83,
   "id": "absolute-staff",
   "metadata": {},
   "outputs": [],
   "source": [
    "def add_and_mul(a,b):\n",
    "    return a+b, a*b"
   ]
  },
  {
   "cell_type": "code",
   "execution_count": 87,
   "id": "light-crest",
   "metadata": {},
   "outputs": [
    {
     "name": "stdout",
     "output_type": "stream",
     "text": [
      "(8, 15)\n"
     ]
    }
   ],
   "source": [
    "result = add_and_mul(3,5)\n",
    "print(result)"
   ]
  },
  {
   "cell_type": "markdown",
   "id": "weird-dryer",
   "metadata": {},
   "source": [
    "이처럼 만약 return a,b로 한다면 결괏값은 튜플이 되어 나온다."
   ]
  },
  {
   "cell_type": "code",
   "execution_count": 89,
   "id": "activated-finder",
   "metadata": {},
   "outputs": [],
   "source": [
    "def add_and_mul(a,b):\n",
    "    return a+b\n",
    "    return a*b"
   ]
  },
  {
   "cell_type": "code",
   "execution_count": 90,
   "id": "wired-blame",
   "metadata": {},
   "outputs": [
    {
     "name": "stdout",
     "output_type": "stream",
     "text": [
      "8\n"
     ]
    }
   ],
   "source": [
    "result = add_and_mul(3,5)\n",
    "print(result)"
   ]
  },
  {
   "cell_type": "markdown",
   "id": "removed-contamination",
   "metadata": {},
   "source": [
    "이처럼 만약 return문을 두개 사용한다면 하나만 나오게 된다."
   ]
  },
  {
   "cell_type": "markdown",
   "id": "careful-finance",
   "metadata": {},
   "source": [
    "### return의 또 다른 쓰임새"
   ]
  },
  {
   "cell_type": "code",
   "execution_count": 92,
   "id": "welcome-coral",
   "metadata": {},
   "outputs": [],
   "source": [
    "def say_nick(nick):\n",
    "    if nick == \"바보\":\n",
    "        return\n",
    "    print(\"나의 별명은 %s 입니다\" %nick)"
   ]
  },
  {
   "cell_type": "code",
   "execution_count": 93,
   "id": "elder-particular",
   "metadata": {},
   "outputs": [
    {
     "name": "stdout",
     "output_type": "stream",
     "text": [
      "나의 별명은 야호 입니다\n"
     ]
    }
   ],
   "source": [
    "say_nick('야호')"
   ]
  },
  {
   "cell_type": "code",
   "execution_count": 94,
   "id": "ready-helmet",
   "metadata": {},
   "outputs": [],
   "source": [
    "say_nick('바보')"
   ]
  },
  {
   "cell_type": "markdown",
   "id": "brilliant-wayne",
   "metadata": {},
   "source": [
    "**이처럼 return으로 함수를 빠져나가는 방법은 실제 프로그래밍에서 아주 자주 사용한다.**"
   ]
  },
  {
   "cell_type": "markdown",
   "id": "organized-surface",
   "metadata": {},
   "source": [
    "### 매개변수에 초깃값 미리 설정하기"
   ]
  },
  {
   "cell_type": "code",
   "execution_count": 96,
   "id": "silver-purse",
   "metadata": {},
   "outputs": [],
   "source": [
    "def say_myself(name,old,man=True):\n",
    "    print(\"나의 이름은 %s 입니다.\" %name)\n",
    "    print(\"나이는 %d 입니다.\" %old)\n",
    "    if man:\n",
    "        print(\"남자입니다.\")\n",
    "    else:\n",
    "        print(\"여자입니다.\")"
   ]
  },
  {
   "cell_type": "code",
   "execution_count": 97,
   "id": "spatial-action",
   "metadata": {},
   "outputs": [
    {
     "name": "stdout",
     "output_type": "stream",
     "text": [
      "나의 이름은 박응용 입니다.\n",
      "나이는 27 입니다.\n",
      "남자입니다.\n"
     ]
    }
   ],
   "source": [
    "say_myself(\"박응용\",27)"
   ]
  },
  {
   "cell_type": "code",
   "execution_count": 98,
   "id": "mighty-cincinnati",
   "metadata": {},
   "outputs": [
    {
     "name": "stdout",
     "output_type": "stream",
     "text": [
      "나의 이름은 박응용 입니다.\n",
      "나이는 27 입니다.\n",
      "여자입니다.\n"
     ]
    }
   ],
   "source": [
    "say_myself(\"박응용\",27,False)"
   ]
  },
  {
   "cell_type": "code",
   "execution_count": 100,
   "id": "dietary-pathology",
   "metadata": {},
   "outputs": [
    {
     "ename": "SyntaxError",
     "evalue": "non-default argument follows default argument (<ipython-input-100-7352fbdf2787>, line 1)",
     "output_type": "error",
     "traceback": [
      "\u001b[0;36m  File \u001b[0;32m\"<ipython-input-100-7352fbdf2787>\"\u001b[0;36m, line \u001b[0;32m1\u001b[0m\n\u001b[0;31m    def say_myself2(name, man=True, old):\u001b[0m\n\u001b[0m                                       ^\u001b[0m\n\u001b[0;31mSyntaxError\u001b[0m\u001b[0;31m:\u001b[0m non-default argument follows default argument\n"
     ]
    }
   ],
   "source": [
    "def say_myself2(name, man=True, old): \n",
    "    print(\"나의 이름은 %s 입니다.\" % name) \n",
    "    print(\"나이는 %d살입니다.\" % old)\n",
    "    if man: \n",
    "        print(\"남자입니다.\") \n",
    "    else: \n",
    "        print(\"여자입니다.\")"
   ]
  },
  {
   "cell_type": "markdown",
   "id": "processed-married",
   "metadata": {},
   "source": [
    "이처럼 매개변수의 순서를 바꾸게 되면 초깃값을 설정해 놓은 매개변수 뒤에 초깃값을 설정하지 않은 매개변수는 사용할 수 없다는 오류가 발생하게 된다."
   ]
  },
  {
   "cell_type": "markdown",
   "id": "external-valve",
   "metadata": {},
   "source": [
    "항상 초기화하고 싶은 매개변수를 뒤쪽에 놓는 것을 잊지 말자."
   ]
  },
  {
   "cell_type": "markdown",
   "id": "tribal-satisfaction",
   "metadata": {},
   "source": [
    "### 함수 안에서 선언한 변수의 효력 범위"
   ]
  },
  {
   "cell_type": "code",
   "execution_count": 101,
   "id": "electoral-trick",
   "metadata": {},
   "outputs": [
    {
     "name": "stdout",
     "output_type": "stream",
     "text": [
      "1\n"
     ]
    }
   ],
   "source": [
    "a = 1\n",
    "def vartest(a):\n",
    "    a=a+1\n",
    "\n",
    "vartest(a)\n",
    "print(a)"
   ]
  },
  {
   "cell_type": "markdown",
   "id": "broke-mechanism",
   "metadata": {},
   "source": [
    "위 결과는 2가 아닌 1 이다. 그 이유는 함수 안에서는 a가 2가 되지만 함수를 호출하고 난 뒤에는 print(a)가 받아야 하는 a 변수가 없기 때문에 원래의 a가 나오게 되는 것이다. 이처럼 함수 안에서 선언한 매개변수는 함수 안에서만 사용될 뿐 밖에서는 사용되지 않는다."
   ]
  },
  {
   "cell_type": "markdown",
   "id": "still-trustee",
   "metadata": {},
   "source": [
    "### 함수 안에서 함수 밖의 변수를 변경하는 방법"
   ]
  },
  {
   "cell_type": "code",
   "execution_count": 107,
   "id": "literary-democracy",
   "metadata": {},
   "outputs": [
    {
     "name": "stdout",
     "output_type": "stream",
     "text": [
      "2\n"
     ]
    }
   ],
   "source": [
    "a = 1\n",
    "def vartest(a):\n",
    "    a = a+1\n",
    "    return a\n",
    "\n",
    "a = vartest2(a)\n",
    "print(a)"
   ]
  },
  {
   "cell_type": "code",
   "execution_count": 108,
   "id": "stuck-worthy",
   "metadata": {},
   "outputs": [
    {
     "name": "stdout",
     "output_type": "stream",
     "text": [
      "2\n"
     ]
    }
   ],
   "source": [
    "a = 1\n",
    "def vartest():\n",
    "    global a\n",
    "    a = a+1\n",
    "    \n",
    "vartest()\n",
    "print(a)"
   ]
  },
  {
   "cell_type": "markdown",
   "id": "musical-departure",
   "metadata": {},
   "source": [
    "return문과 global명령어를 사용하면 위처럼 함수 안에서 밖의 변수를 변경 할 수 있다."
   ]
  },
  {
   "cell_type": "markdown",
   "id": "compressed-score",
   "metadata": {},
   "source": [
    "### lambda"
   ]
  },
  {
   "cell_type": "code",
   "execution_count": 109,
   "id": "indirect-formation",
   "metadata": {},
   "outputs": [
    {
     "name": "stdout",
     "output_type": "stream",
     "text": [
      "7\n"
     ]
    }
   ],
   "source": [
    "add = lambda a,b:a+b\n",
    "result = add(3,4)\n",
    "print(result)"
   ]
  },
  {
   "cell_type": "code",
   "execution_count": 111,
   "id": "aggregate-franchise",
   "metadata": {},
   "outputs": [
    {
     "name": "stdout",
     "output_type": "stream",
     "text": [
      "7\n"
     ]
    }
   ],
   "source": [
    "def add(a,b):\n",
    "    return a+b\n",
    "\n",
    "result = add(3,4)\n",
    "print(result)"
   ]
  },
  {
   "cell_type": "markdown",
   "id": "documentary-sullivan",
   "metadata": {},
   "source": [
    "위 두 함수는 같은 함수이다. lambda함수를 사용해도 동일한 효과를 낼 수 있다."
   ]
  }
 ],
 "metadata": {
  "kernelspec": {
   "display_name": "Python 3",
   "language": "python",
   "name": "python3"
  },
  "language_info": {
   "codemirror_mode": {
    "name": "ipython",
    "version": 3
   },
   "file_extension": ".py",
   "mimetype": "text/x-python",
   "name": "python",
   "nbconvert_exporter": "python",
   "pygments_lexer": "ipython3",
   "version": "3.9.1"
  }
 },
 "nbformat": 4,
 "nbformat_minor": 5
}
