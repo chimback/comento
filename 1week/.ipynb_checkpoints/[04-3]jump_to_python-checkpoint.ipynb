{
 "cells": [
  {
   "cell_type": "markdown",
   "id": "bottom-bahrain",
   "metadata": {},
   "source": [
    "# 04-3 파일 읽고 쓰기"
   ]
  },
  {
   "cell_type": "markdown",
   "id": "southwest-suffering",
   "metadata": {},
   "source": [
    "### 파일 생성하기"
   ]
  },
  {
   "cell_type": "code",
   "execution_count": 2,
   "id": "exempt-duplicate",
   "metadata": {},
   "outputs": [],
   "source": [
    "f = open(\"새파일.txt\", 'w')\n",
    "f.close()"
   ]
  },
  {
   "cell_type": "markdown",
   "id": "toxic-gravity",
   "metadata": {},
   "source": [
    "파일을 생성하기 위해 open 함수 사용. 그후 r = 읽기모드 w = 쓰기모드 a = 추가모드(파일의 마지막에 새로운 내용을 추가)"
   ]
  },
  {
   "cell_type": "code",
   "execution_count": 3,
   "id": "arabic-recycling",
   "metadata": {},
   "outputs": [
    {
     "ename": "FileNotFoundError",
     "evalue": "[Errno 2] No such file or directory: 'C:/doit/새파일.txt'",
     "output_type": "error",
     "traceback": [
      "\u001b[0;31m---------------------------------------------------------------------------\u001b[0m",
      "\u001b[0;31mFileNotFoundError\u001b[0m                         Traceback (most recent call last)",
      "\u001b[0;32m<ipython-input-3-c5f9dfa1dc78>\u001b[0m in \u001b[0;36m<module>\u001b[0;34m\u001b[0m\n\u001b[0;32m----> 1\u001b[0;31m \u001b[0mf\u001b[0m \u001b[0;34m=\u001b[0m \u001b[0mopen\u001b[0m\u001b[0;34m(\u001b[0m\u001b[0;34m\"C:/doit/새파일.txt\"\u001b[0m\u001b[0;34m,\u001b[0m\u001b[0;34m'w'\u001b[0m\u001b[0;34m)\u001b[0m\u001b[0;34m\u001b[0m\u001b[0;34m\u001b[0m\u001b[0m\n\u001b[0m\u001b[1;32m      2\u001b[0m \u001b[0mf\u001b[0m\u001b[0;34m.\u001b[0m\u001b[0mclose\u001b[0m\u001b[0;34m(\u001b[0m\u001b[0;34m)\u001b[0m\u001b[0;34m\u001b[0m\u001b[0;34m\u001b[0m\u001b[0m\n",
      "\u001b[0;31mFileNotFoundError\u001b[0m: [Errno 2] No such file or directory: 'C:/doit/새파일.txt'"
     ]
    }
   ],
   "source": [
    "f = open(\"C:/doit/새파일.txt\",'w')\n",
    "f.close()"
   ]
  },
  {
   "cell_type": "markdown",
   "id": "effective-replacement",
   "metadata": {},
   "source": [
    "위처럼 경로를 사용하여 원하는 곳에 파일을 만들 수 있다. 또한 f.close()는 열려있는 파일 객체를 닫아준다. 하지만 생략해도 파이썬 프로그램을 닫으면 자동으로 파일의 객체를 닫아준다."
   ]
  },
  {
   "cell_type": "markdown",
   "id": "athletic-indonesian",
   "metadata": {},
   "source": [
    "### 파일을 쓰기 모드로 열어 출력값 적기"
   ]
  },
  {
   "cell_type": "code",
   "execution_count": null,
   "id": "purple-effort",
   "metadata": {},
   "outputs": [],
   "source": []
  }
 ],
 "metadata": {
  "kernelspec": {
   "display_name": "Python 3",
   "language": "python",
   "name": "python3"
  },
  "language_info": {
   "codemirror_mode": {
    "name": "ipython",
    "version": 3
   },
   "file_extension": ".py",
   "mimetype": "text/x-python",
   "name": "python",
   "nbconvert_exporter": "python",
   "pygments_lexer": "ipython3",
   "version": "3.9.1"
  }
 },
 "nbformat": 4,
 "nbformat_minor": 5
}
